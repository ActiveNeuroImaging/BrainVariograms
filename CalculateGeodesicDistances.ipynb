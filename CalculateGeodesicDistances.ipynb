{
 "cells": [
  {
   "cell_type": "code",
   "execution_count": null,
   "id": "a438e901",
   "metadata": {},
   "outputs": [],
   "source": [
    "#Only need to do once for each hemisphere\n",
    "from brainsmash.workbench.geo import cortex\n",
    "surface = \"./SurfL10kConte.gii\"\n",
    "cortex(surface=surface, outfile=\"./SurfL10kConte.txt\", use_wb=True,euclid=False)\n",
    "\n",
    "from brainsmash.workbench.geo import cortex\n",
    "surface = \"./SurfR10kConte.gii\"\n",
    "cortex(surface=surface, outfile=\"./SurfR10kConte.txt\", use_wb=True,euclid=False)\n",
    "\n"
   ]
  }
 ],
 "metadata": {
  "kernelspec": {
   "display_name": "Python 3 (ipykernel)",
   "language": "python",
   "name": "python3"
  },
  "language_info": {
   "codemirror_mode": {
    "name": "ipython",
    "version": 3
   },
   "file_extension": ".py",
   "mimetype": "text/x-python",
   "name": "python",
   "nbconvert_exporter": "python",
   "pygments_lexer": "ipython3",
   "version": "3.9.13"
  }
 },
 "nbformat": 4,
 "nbformat_minor": 5
}
